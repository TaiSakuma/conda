{
 "cells": [
  {
   "cell_type": "code",
   "execution_count": 6,
   "metadata": {},
   "outputs": [],
   "source": [
    "import os\n",
    "import numpy\n",
    "_missing_so = 'libJupyROOT.so'\n",
    "_site_dir = os.path.dirname(os.path.dirname(numpy.__file__))\n",
    "_lib_dir = os.path.dirname(os.path.dirname(_site_dir))\n",
    "_dst = os.path.join(_site_dir, _missing_so)\n",
    "_src = os.path.join(_lib_dir, _missing_so)\n",
    "try:\n",
    "    os.symlink(_src, _dst)\n",
    "except:\n",
    "    pass\n",
    "del _missing_so\n",
    "del _lib_dir\n",
    "del _site_dir\n",
    "del _src\n",
    "del _dst"
   ]
  },
  {
   "cell_type": "code",
   "execution_count": 7,
   "metadata": {},
   "outputs": [],
   "source": [
    "import ROOT"
   ]
  },
  {
   "cell_type": "code",
   "execution_count": 8,
   "metadata": {},
   "outputs": [],
   "source": [
    "import qtwirl"
   ]
  }
 ],
 "metadata": {
  "kernelspec": {
   "display_name": "Python 3",
   "language": "python",
   "name": "python3"
  },
  "language_info": {
   "codemirror_mode": {
    "name": "ipython",
    "version": 3
   },
   "file_extension": ".py",
   "mimetype": "text/x-python",
   "name": "python",
   "nbconvert_exporter": "python",
   "pygments_lexer": "ipython3",
   "version": "3.6.7"
  }
 },
 "nbformat": 4,
 "nbformat_minor": 2
}
