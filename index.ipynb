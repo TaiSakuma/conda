{
 "cells": [
  {
   "cell_type": "code",
   "execution_count": 2,
   "metadata": {},
   "outputs": [],
   "source": [
    "def _fix_import_root():\n",
    "    import os\n",
    "    import numpy\n",
    "    missing_so = 'libJupyROOT.so'\n",
    "    site_dir = os.path.dirname(os.path.dirname(numpy.__file__))\n",
    "    lib_dir = os.path.dirname(os.path.dirname(site_dir))\n",
    "    dst = os.path.join(site_dir, missing_so)\n",
    "    src = os.path.join(lib_dir, missing_so)\n",
    "    try:\n",
    "        os.symlink(src, dst)\n",
    "    except:\n",
    "        pass\n",
    "_fix_import_root()"
   ]
  },
  {
   "cell_type": "code",
   "execution_count": 3,
   "metadata": {},
   "outputs": [
    {
     "name": "stdout",
     "output_type": "stream",
     "text": [
      "Welcome to JupyROOT 6.16/00\n"
     ]
    }
   ],
   "source": [
    "import ROOT"
   ]
  },
  {
   "cell_type": "code",
   "execution_count": 4,
   "metadata": {},
   "outputs": [],
   "source": [
    "import qtwirl"
   ]
  },
  {
   "cell_type": "code",
   "execution_count": null,
   "metadata": {},
   "outputs": [],
   "source": []
  }
 ],
 "metadata": {
  "kernelspec": {
   "display_name": "Python 3",
   "language": "python",
   "name": "python3"
  },
  "language_info": {
   "codemirror_mode": {
    "name": "ipython",
    "version": 3
   },
   "file_extension": ".py",
   "mimetype": "text/x-python",
   "name": "python",
   "nbconvert_exporter": "python",
   "pygments_lexer": "ipython3",
   "version": "3.6.7"
  }
 },
 "nbformat": 4,
 "nbformat_minor": 2
}
